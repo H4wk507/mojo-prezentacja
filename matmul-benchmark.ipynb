{
 "cells": [
  {
   "cell_type": "markdown",
   "metadata": {},
   "source": [
    "To jest osobny plik na omówienie benchmarka mnozenia macierzy.\n",
    "\n",
    "<!-- matrix_multiplication.py -->\n",
    "\n",
    "Mnożenie macierzy 256x256 \\* 256x256, typ float32\n",
    "\n",
    "CPU and naiwny algorytm, mojo wykonuje mnozenie macierzy: 44.10s\n",
    "\n",
    "Kompilacja grafu, czyli zamiana kodu wysokopoziomowego na zoptymalizowany graf obliczeniowy, który może być wykonywany na różnych platformach (CPU, GPU, TPU, etc.), zajmuję 36.88s\n",
    "\n",
    "Wykonanie obliczeń na grafie zajmuję 0.03s\n",
    "\n",
    "Reszte czasu zajmuje stworzenie grafu.\n",
    "\n",
    "Ten sam benchmark, tylko kod napisany w pythonie zajmuje 14s.\n",
    "\n",
    "<!-- matmul2.mojo and numpy-bench.py -->\n",
    "\n",
    "stdlib mnozenie macierzy w mojo zajmuje 115.7ms dla 512x512\n",
    "w pythonie numpy zajmuje 237ms dla 512x512\n",
    "\n",
    "<!-- matmul.mojo -->\n",
    "\n",
    "Problem Size (M N K): 512 4096 512\n",
    "CPU Results\n",
    "\n",
    "Python: 0.002 GFLOPS\n",
    "Numpy: 75.721 GFLOPS\n",
    "Naive: 2.189 GFLOPS 1117.43x Python 0.03x Numpy Vectorized: 5.379 GFLOPS 2746.54x Python 0.07x Numpy\n",
    "Parallelized: 5.660 GFLOPS 2889.58x Python 0.07x Numpy\n",
    "Tiled: 7.664 GFLOPS 3912.82x Python 0.10x Numpy\n",
    "Unrolled: 7.896 GFLOPS 4031.20x Python 0.10x Numpy\n",
    "Physical Cores: 5.483 GFLOPS 2799.51x Python 0.07x Numpy\n",
    "Logical Cores: 6.570 GFLOPS 3354.41x Python 0.09x Numpy\n",
    "Performance Cores: 6.831 GFLOPS 3487.81x Python 0.09x Numpy\n",
    "Reordered: 39.316 GFLOPS 20073.47x Python 0.52x Numpy\n",
    "\n",
    "Cięzko jest pobić numpy, które jest bardzo mocno zoptymalizowane\n"
   ]
  }
 ],
 "metadata": {
  "language_info": {
   "name": "python"
  }
 },
 "nbformat": 4,
 "nbformat_minor": 2
}
